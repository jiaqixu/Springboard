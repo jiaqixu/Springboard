{
 "cells": [
  {
   "cell_type": "markdown",
   "metadata": {},
   "source": [
    "### Load Packages"
   ]
  },
  {
   "cell_type": "code",
   "execution_count": 1,
   "metadata": {},
   "outputs": [],
   "source": [
    "import pandas as pd\n",
    "import datetime\n",
    "import seaborn as sns\n",
    "import matplotlib.pyplot as plt\n",
    "#tk_user_enga = pd.read_csv(\"takehome_user_engagement.csv\",parse_dates=True,index_col='time_stamp')"
   ]
  },
  {
   "cell_type": "markdown",
   "metadata": {},
   "source": [
    "Load \"takehome_user_engagement.csv\" file"
   ]
  },
  {
   "cell_type": "code",
   "execution_count": 2,
   "metadata": {},
   "outputs": [
    {
     "data": {
      "text/html": [
       "<div>\n",
       "<style scoped>\n",
       "    .dataframe tbody tr th:only-of-type {\n",
       "        vertical-align: middle;\n",
       "    }\n",
       "\n",
       "    .dataframe tbody tr th {\n",
       "        vertical-align: top;\n",
       "    }\n",
       "\n",
       "    .dataframe thead th {\n",
       "        text-align: right;\n",
       "    }\n",
       "</style>\n",
       "<table border=\"1\" class=\"dataframe\">\n",
       "  <thead>\n",
       "    <tr style=\"text-align: right;\">\n",
       "      <th></th>\n",
       "      <th>time_stamp</th>\n",
       "      <th>user_id</th>\n",
       "      <th>visited</th>\n",
       "    </tr>\n",
       "  </thead>\n",
       "  <tbody>\n",
       "    <tr>\n",
       "      <th>0</th>\n",
       "      <td>2014-04-22 03:53:30</td>\n",
       "      <td>1</td>\n",
       "      <td>1</td>\n",
       "    </tr>\n",
       "    <tr>\n",
       "      <th>1</th>\n",
       "      <td>2013-11-15 03:45:04</td>\n",
       "      <td>2</td>\n",
       "      <td>1</td>\n",
       "    </tr>\n",
       "    <tr>\n",
       "      <th>2</th>\n",
       "      <td>2013-11-29 03:45:04</td>\n",
       "      <td>2</td>\n",
       "      <td>1</td>\n",
       "    </tr>\n",
       "    <tr>\n",
       "      <th>3</th>\n",
       "      <td>2013-12-09 03:45:04</td>\n",
       "      <td>2</td>\n",
       "      <td>1</td>\n",
       "    </tr>\n",
       "    <tr>\n",
       "      <th>4</th>\n",
       "      <td>2013-12-25 03:45:04</td>\n",
       "      <td>2</td>\n",
       "      <td>1</td>\n",
       "    </tr>\n",
       "  </tbody>\n",
       "</table>\n",
       "</div>"
      ],
      "text/plain": [
       "           time_stamp  user_id  visited\n",
       "0 2014-04-22 03:53:30        1        1\n",
       "1 2013-11-15 03:45:04        2        1\n",
       "2 2013-11-29 03:45:04        2        1\n",
       "3 2013-12-09 03:45:04        2        1\n",
       "4 2013-12-25 03:45:04        2        1"
      ]
     },
     "execution_count": 2,
     "metadata": {},
     "output_type": "execute_result"
    }
   ],
   "source": [
    "tk_user_enga = pd.read_csv(\"takehome_user_engagement.csv\", parse_dates = ['time_stamp'], infer_datetime_format=True)\n",
    "tk_user_enga.head()"
   ]
  },
  {
   "cell_type": "markdown",
   "metadata": {},
   "source": [
    "### Define \"Adopted\" User"
   ]
  },
  {
   "cell_type": "code",
   "execution_count": 3,
   "metadata": {},
   "outputs": [
    {
     "name": "stdout",
     "output_type": "stream",
     "text": [
      "                time_stamp  user_id  visited\n",
      "59486  2012-05-31 15:47:36     3428        1\n",
      "26821  2012-05-31 21:58:33     1693        1\n",
      "140780 2012-06-01 20:02:35     8068        1\n",
      "60374  2012-06-02 00:28:47     3514        1\n",
      "126542 2012-06-02 06:23:51     7170        1\n"
     ]
    }
   ],
   "source": [
    "sub_tk = tk_user_enga.groupby(['user_id']).count()>=3\n",
    "sub_tk_ind = sub_tk.index[sub_tk['visited']]\n",
    "tk_user_enga2 = tk_user_enga.loc[tk_user_enga['user_id'].isin(sub_tk_ind)]\n",
    "#tk_user_enga2 = tk_user_enga2.sort_index()\n",
    "#tk_user_enga2 = tk_user_enga2.sort_values(by=['user_id'])\n",
    "tk_user_enga2 = tk_user_enga2.sort_values(by=['time_stamp'])\n",
    "print(tk_user_enga2.head())"
   ]
  },
  {
   "cell_type": "code",
   "execution_count": 4,
   "metadata": {},
   "outputs": [],
   "source": [
    "def if_adopted_user(tk_user_enga2, user_id):\n",
    "    tk_user_id = tk_user_enga2[tk_user_enga2.user_id==user_id]\n",
    "\n",
    "    for i in range(0,tk_user_id.shape[0]-2,1):\n",
    "        start = tk_user_id.time_stamp.iloc[i]\n",
    "        end = start+datetime.timedelta(days=7)\n",
    "        tk_user_id_cur =  tk_user_id[tk_user_id.time_stamp>=start]\n",
    "        tk_user_id_cur = tk_user_id_cur[tk_user_id_cur.time_stamp<=end]\n",
    "        if tk_user_id_cur.shape[0]>=3:\n",
    "            return user_id\n",
    "    return 0\n",
    "\n",
    "adopted_id = [if_adopted_user(tk_user_enga2,int(item)) for item in tk_user_enga2.user_id.unique()]\n",
    "adopted_id = [item for item in adopted_id if item!=0]"
   ]
  },
  {
   "cell_type": "markdown",
   "metadata": {},
   "source": [
    "### Load \"takehome_users.csv\" file"
   ]
  },
  {
   "cell_type": "code",
   "execution_count": 5,
   "metadata": {},
   "outputs": [
    {
     "data": {
      "text/html": [
       "<div>\n",
       "<style scoped>\n",
       "    .dataframe tbody tr th:only-of-type {\n",
       "        vertical-align: middle;\n",
       "    }\n",
       "\n",
       "    .dataframe tbody tr th {\n",
       "        vertical-align: top;\n",
       "    }\n",
       "\n",
       "    .dataframe thead th {\n",
       "        text-align: right;\n",
       "    }\n",
       "</style>\n",
       "<table border=\"1\" class=\"dataframe\">\n",
       "  <thead>\n",
       "    <tr style=\"text-align: right;\">\n",
       "      <th></th>\n",
       "      <th>object_id</th>\n",
       "      <th>creation_time</th>\n",
       "      <th>name</th>\n",
       "      <th>email</th>\n",
       "      <th>creation_source</th>\n",
       "      <th>last_session_creation_time</th>\n",
       "      <th>opted_in_to_mailing_list</th>\n",
       "      <th>enabled_for_marketing_drip</th>\n",
       "      <th>org_id</th>\n",
       "      <th>invited_by_user_id</th>\n",
       "    </tr>\n",
       "  </thead>\n",
       "  <tbody>\n",
       "    <tr>\n",
       "      <th>0</th>\n",
       "      <td>1</td>\n",
       "      <td>2014-04-22 03:53:30</td>\n",
       "      <td>Clausen August</td>\n",
       "      <td>AugustCClausen@yahoo.com</td>\n",
       "      <td>GUEST_INVITE</td>\n",
       "      <td>1.398139e+09</td>\n",
       "      <td>1</td>\n",
       "      <td>0</td>\n",
       "      <td>11</td>\n",
       "      <td>10803.0</td>\n",
       "    </tr>\n",
       "    <tr>\n",
       "      <th>1</th>\n",
       "      <td>2</td>\n",
       "      <td>2013-11-15 03:45:04</td>\n",
       "      <td>Poole Matthew</td>\n",
       "      <td>MatthewPoole@gustr.com</td>\n",
       "      <td>ORG_INVITE</td>\n",
       "      <td>1.396238e+09</td>\n",
       "      <td>0</td>\n",
       "      <td>0</td>\n",
       "      <td>1</td>\n",
       "      <td>316.0</td>\n",
       "    </tr>\n",
       "    <tr>\n",
       "      <th>2</th>\n",
       "      <td>3</td>\n",
       "      <td>2013-03-19 23:14:52</td>\n",
       "      <td>Bottrill Mitchell</td>\n",
       "      <td>MitchellBottrill@gustr.com</td>\n",
       "      <td>ORG_INVITE</td>\n",
       "      <td>1.363735e+09</td>\n",
       "      <td>0</td>\n",
       "      <td>0</td>\n",
       "      <td>94</td>\n",
       "      <td>1525.0</td>\n",
       "    </tr>\n",
       "    <tr>\n",
       "      <th>3</th>\n",
       "      <td>4</td>\n",
       "      <td>2013-05-21 08:09:28</td>\n",
       "      <td>Clausen Nicklas</td>\n",
       "      <td>NicklasSClausen@yahoo.com</td>\n",
       "      <td>GUEST_INVITE</td>\n",
       "      <td>1.369210e+09</td>\n",
       "      <td>0</td>\n",
       "      <td>0</td>\n",
       "      <td>1</td>\n",
       "      <td>5151.0</td>\n",
       "    </tr>\n",
       "    <tr>\n",
       "      <th>4</th>\n",
       "      <td>5</td>\n",
       "      <td>2013-01-17 10:14:20</td>\n",
       "      <td>Raw Grace</td>\n",
       "      <td>GraceRaw@yahoo.com</td>\n",
       "      <td>GUEST_INVITE</td>\n",
       "      <td>1.358850e+09</td>\n",
       "      <td>0</td>\n",
       "      <td>0</td>\n",
       "      <td>193</td>\n",
       "      <td>5240.0</td>\n",
       "    </tr>\n",
       "  </tbody>\n",
       "</table>\n",
       "</div>"
      ],
      "text/plain": [
       "   object_id        creation_time               name  \\\n",
       "0          1  2014-04-22 03:53:30     Clausen August   \n",
       "1          2  2013-11-15 03:45:04      Poole Matthew   \n",
       "2          3  2013-03-19 23:14:52  Bottrill Mitchell   \n",
       "3          4  2013-05-21 08:09:28    Clausen Nicklas   \n",
       "4          5  2013-01-17 10:14:20          Raw Grace   \n",
       "\n",
       "                        email creation_source  last_session_creation_time  \\\n",
       "0    AugustCClausen@yahoo.com    GUEST_INVITE                1.398139e+09   \n",
       "1      MatthewPoole@gustr.com      ORG_INVITE                1.396238e+09   \n",
       "2  MitchellBottrill@gustr.com      ORG_INVITE                1.363735e+09   \n",
       "3   NicklasSClausen@yahoo.com    GUEST_INVITE                1.369210e+09   \n",
       "4          GraceRaw@yahoo.com    GUEST_INVITE                1.358850e+09   \n",
       "\n",
       "   opted_in_to_mailing_list  enabled_for_marketing_drip  org_id  \\\n",
       "0                         1                           0      11   \n",
       "1                         0                           0       1   \n",
       "2                         0                           0      94   \n",
       "3                         0                           0       1   \n",
       "4                         0                           0     193   \n",
       "\n",
       "   invited_by_user_id  \n",
       "0             10803.0  \n",
       "1               316.0  \n",
       "2              1525.0  \n",
       "3              5151.0  \n",
       "4              5240.0  "
      ]
     },
     "execution_count": 5,
     "metadata": {},
     "output_type": "execute_result"
    }
   ],
   "source": [
    "tk_user = pd.read_csv(\"takehome_users.csv\",encoding='latin-1')\n",
    "tk_user.head()"
   ]
  },
  {
   "cell_type": "code",
   "execution_count": 6,
   "metadata": {},
   "outputs": [
    {
     "data": {
      "text/plain": [
       "object_id                       int64\n",
       "creation_time                  object\n",
       "name                           object\n",
       "email                          object\n",
       "creation_source                object\n",
       "last_session_creation_time    float64\n",
       "opted_in_to_mailing_list        int64\n",
       "enabled_for_marketing_drip      int64\n",
       "org_id                          int64\n",
       "invited_by_user_id            float64\n",
       "dtype: object"
      ]
     },
     "execution_count": 6,
     "metadata": {},
     "output_type": "execute_result"
    }
   ],
   "source": [
    "tk_user.dtypes"
   ]
  },
  {
   "cell_type": "markdown",
   "metadata": {},
   "source": [
    "### Remove three columns: name, org_id, invited_by_user_id"
   ]
  },
  {
   "cell_type": "code",
   "execution_count": 7,
   "metadata": {},
   "outputs": [
    {
     "name": "stdout",
     "output_type": "stream",
     "text": [
      "0      319\n",
      "1      233\n",
      "2      201\n",
      "3      168\n",
      "4      159\n",
      "      ... \n",
      "396      9\n",
      "400      8\n",
      "397      8\n",
      "386      7\n",
      "416      2\n",
      "Name: org_id, Length: 417, dtype: int64\n",
      "10741.0    13\n",
      "2527.0     12\n",
      "2308.0     11\n",
      "1525.0     11\n",
      "11770.0    11\n",
      "           ..\n",
      "2746.0      1\n",
      "10456.0     1\n",
      "8371.0      1\n",
      "6266.0      1\n",
      "3572.0      1\n",
      "Name: invited_by_user_id, Length: 2564, dtype: int64\n"
     ]
    }
   ],
   "source": [
    "print(tk_user['org_id'].value_counts())\n",
    "print(tk_user['invited_by_user_id'].value_counts())\n",
    "tk_user.drop(columns=['name','org_id','invited_by_user_id'],inplace=True)"
   ]
  },
  {
   "cell_type": "markdown",
   "metadata": {},
   "source": [
    "### Data Wrangling\n",
    "### Data Clean and Create Features for tk_user"
   ]
  },
  {
   "cell_type": "code",
   "execution_count": 8,
   "metadata": {},
   "outputs": [
    {
     "data": {
      "text/html": [
       "<div>\n",
       "<style scoped>\n",
       "    .dataframe tbody tr th:only-of-type {\n",
       "        vertical-align: middle;\n",
       "    }\n",
       "\n",
       "    .dataframe tbody tr th {\n",
       "        vertical-align: top;\n",
       "    }\n",
       "\n",
       "    .dataframe thead th {\n",
       "        text-align: right;\n",
       "    }\n",
       "</style>\n",
       "<table border=\"1\" class=\"dataframe\">\n",
       "  <thead>\n",
       "    <tr style=\"text-align: right;\">\n",
       "      <th></th>\n",
       "      <th>object_id</th>\n",
       "      <th>creation_source</th>\n",
       "      <th>opted_in_to_mailing_list</th>\n",
       "      <th>enabled_for_marketing_drip</th>\n",
       "      <th>lst_sp_days</th>\n",
       "      <th>reg_days</th>\n",
       "      <th>email_type</th>\n",
       "    </tr>\n",
       "  </thead>\n",
       "  <tbody>\n",
       "    <tr>\n",
       "      <th>0</th>\n",
       "      <td>1</td>\n",
       "      <td>GUEST_INVITE</td>\n",
       "      <td>1</td>\n",
       "      <td>0</td>\n",
       "      <td>0.0</td>\n",
       "      <td>38</td>\n",
       "      <td>yahoo.com</td>\n",
       "    </tr>\n",
       "    <tr>\n",
       "      <th>1</th>\n",
       "      <td>2</td>\n",
       "      <td>ORG_INVITE</td>\n",
       "      <td>0</td>\n",
       "      <td>0</td>\n",
       "      <td>136.0</td>\n",
       "      <td>196</td>\n",
       "      <td>gustr.com</td>\n",
       "    </tr>\n",
       "    <tr>\n",
       "      <th>2</th>\n",
       "      <td>3</td>\n",
       "      <td>ORG_INVITE</td>\n",
       "      <td>0</td>\n",
       "      <td>0</td>\n",
       "      <td>0.0</td>\n",
       "      <td>437</td>\n",
       "      <td>gustr.com</td>\n",
       "    </tr>\n",
       "    <tr>\n",
       "      <th>3</th>\n",
       "      <td>4</td>\n",
       "      <td>GUEST_INVITE</td>\n",
       "      <td>0</td>\n",
       "      <td>0</td>\n",
       "      <td>1.0</td>\n",
       "      <td>374</td>\n",
       "      <td>yahoo.com</td>\n",
       "    </tr>\n",
       "    <tr>\n",
       "      <th>4</th>\n",
       "      <td>5</td>\n",
       "      <td>GUEST_INVITE</td>\n",
       "      <td>0</td>\n",
       "      <td>0</td>\n",
       "      <td>5.0</td>\n",
       "      <td>498</td>\n",
       "      <td>yahoo.com</td>\n",
       "    </tr>\n",
       "  </tbody>\n",
       "</table>\n",
       "</div>"
      ],
      "text/plain": [
       "   object_id creation_source  opted_in_to_mailing_list  \\\n",
       "0          1    GUEST_INVITE                         1   \n",
       "1          2      ORG_INVITE                         0   \n",
       "2          3      ORG_INVITE                         0   \n",
       "3          4    GUEST_INVITE                         0   \n",
       "4          5    GUEST_INVITE                         0   \n",
       "\n",
       "   enabled_for_marketing_drip  lst_sp_days  reg_days email_type  \n",
       "0                           0          0.0        38  yahoo.com  \n",
       "1                           0        136.0       196  gustr.com  \n",
       "2                           0          0.0       437  gustr.com  \n",
       "3                           0          1.0       374  yahoo.com  \n",
       "4                           0          5.0       498  yahoo.com  "
      ]
     },
     "execution_count": 8,
     "metadata": {},
     "output_type": "execute_result"
    }
   ],
   "source": [
    "tk_user['creation_time'] = pd.to_datetime(tk_user['creation_time'], format='%Y-%m-%d %H:%M:%S')\n",
    "tk_user['last_session_creation_time'] = pd.to_datetime(tk_user['last_session_creation_time'], unit='s')\n",
    "# calculate user last login spread days, defined as number of days between account creation and last use\n",
    "tk_user['lst_sp_days'] = tk_user['last_session_creation_time'] - tk_user['creation_time']\n",
    "tk_user['lst_sp_days'] = tk_user['lst_sp_days'].dt.days\n",
    "# calculate account age, defined as number of days since account creation and now\n",
    "# Not sure when this dataset was collected. Let's use the latest date in creation_time\n",
    "latest = max(tk_user['creation_time'])\n",
    "tk_user['reg_days'] = latest - tk_user['creation_time']\n",
    "tk_user['reg_days'] = tk_user['reg_days'].dt.days\n",
    "tk_user['email_type'] = tk_user['email'].apply(lambda x: x.split(\"@\")[1])\n",
    "# drop the three original columns\n",
    "tk_user = tk_user.drop(['creation_time', 'last_session_creation_time', 'email'], axis=1)\n",
    "tk_user.head()"
   ]
  },
  {
   "cell_type": "markdown",
   "metadata": {},
   "source": [
    "### check email type and keep first 6 most counts"
   ]
  },
  {
   "cell_type": "code",
   "execution_count": 9,
   "metadata": {},
   "outputs": [
    {
     "name": "stdout",
     "output_type": "stream",
     "text": [
      "gmail.com         3562\n",
      "yahoo.com         2447\n",
      "jourrapide.com    1259\n",
      "cuvox.de          1202\n",
      "gustr.com         1179\n",
      "hotmail.com       1165\n",
      "xybhi.com            2\n",
      "rerwl.com            2\n",
      "qgjbc.com            2\n",
      "xvnbr.com            2\n",
      "Name: email_type, dtype: int64\n",
      "total length of dataset:12000\n",
      "total counts of first 6 email type:10814\n"
     ]
    }
   ],
   "source": [
    "print(tk_user.email_type.value_counts().head(10))\n",
    "print(\"total length of dataset:{}\".format(len(tk_user)))\n",
    "print(\"total counts of first 6 email type:{}\".format(tk_user.email_type.value_counts().head(6).sum()))"
   ]
  },
  {
   "cell_type": "code",
   "execution_count": 10,
   "metadata": {},
   "outputs": [
    {
     "data": {
      "text/html": [
       "<div>\n",
       "<style scoped>\n",
       "    .dataframe tbody tr th:only-of-type {\n",
       "        vertical-align: middle;\n",
       "    }\n",
       "\n",
       "    .dataframe tbody tr th {\n",
       "        vertical-align: top;\n",
       "    }\n",
       "\n",
       "    .dataframe thead th {\n",
       "        text-align: right;\n",
       "    }\n",
       "</style>\n",
       "<table border=\"1\" class=\"dataframe\">\n",
       "  <thead>\n",
       "    <tr style=\"text-align: right;\">\n",
       "      <th></th>\n",
       "      <th>object_id</th>\n",
       "      <th>creation_source</th>\n",
       "      <th>opted_in_to_mailing_list</th>\n",
       "      <th>enabled_for_marketing_drip</th>\n",
       "      <th>lst_sp_days</th>\n",
       "      <th>reg_days</th>\n",
       "      <th>email_type</th>\n",
       "    </tr>\n",
       "  </thead>\n",
       "  <tbody>\n",
       "    <tr>\n",
       "      <th>0</th>\n",
       "      <td>1</td>\n",
       "      <td>GUEST_INVITE</td>\n",
       "      <td>1</td>\n",
       "      <td>0</td>\n",
       "      <td>0.0</td>\n",
       "      <td>38</td>\n",
       "      <td>yahoo.com</td>\n",
       "    </tr>\n",
       "    <tr>\n",
       "      <th>1</th>\n",
       "      <td>2</td>\n",
       "      <td>ORG_INVITE</td>\n",
       "      <td>0</td>\n",
       "      <td>0</td>\n",
       "      <td>136.0</td>\n",
       "      <td>196</td>\n",
       "      <td>gustr.com</td>\n",
       "    </tr>\n",
       "    <tr>\n",
       "      <th>2</th>\n",
       "      <td>3</td>\n",
       "      <td>ORG_INVITE</td>\n",
       "      <td>0</td>\n",
       "      <td>0</td>\n",
       "      <td>0.0</td>\n",
       "      <td>437</td>\n",
       "      <td>gustr.com</td>\n",
       "    </tr>\n",
       "    <tr>\n",
       "      <th>3</th>\n",
       "      <td>4</td>\n",
       "      <td>GUEST_INVITE</td>\n",
       "      <td>0</td>\n",
       "      <td>0</td>\n",
       "      <td>1.0</td>\n",
       "      <td>374</td>\n",
       "      <td>yahoo.com</td>\n",
       "    </tr>\n",
       "    <tr>\n",
       "      <th>4</th>\n",
       "      <td>5</td>\n",
       "      <td>GUEST_INVITE</td>\n",
       "      <td>0</td>\n",
       "      <td>0</td>\n",
       "      <td>5.0</td>\n",
       "      <td>498</td>\n",
       "      <td>yahoo.com</td>\n",
       "    </tr>\n",
       "  </tbody>\n",
       "</table>\n",
       "</div>"
      ],
      "text/plain": [
       "   object_id creation_source  opted_in_to_mailing_list  \\\n",
       "0          1    GUEST_INVITE                         1   \n",
       "1          2      ORG_INVITE                         0   \n",
       "2          3      ORG_INVITE                         0   \n",
       "3          4    GUEST_INVITE                         0   \n",
       "4          5    GUEST_INVITE                         0   \n",
       "\n",
       "   enabled_for_marketing_drip  lst_sp_days  reg_days email_type  \n",
       "0                           0          0.0        38  yahoo.com  \n",
       "1                           0        136.0       196  gustr.com  \n",
       "2                           0          0.0       437  gustr.com  \n",
       "3                           0          1.0       374  yahoo.com  \n",
       "4                           0          5.0       498  yahoo.com  "
      ]
     },
     "execution_count": 10,
     "metadata": {},
     "output_type": "execute_result"
    }
   ],
   "source": [
    "keep_email_type = [\"gmail.com\",\"yahoo.com\", \"jourrapide.com\", \"cuvox.de\",\"gustr.com\",\"hotmail.com\"]\n",
    "tk_user.email_type = tk_user.email_type.apply(lambda x: x if x in keep_email_type else \"others\")\n",
    "tk_user.head()"
   ]
  },
  {
   "cell_type": "markdown",
   "metadata": {},
   "source": [
    "### Merge with adopted_id"
   ]
  },
  {
   "cell_type": "code",
   "execution_count": 11,
   "metadata": {},
   "outputs": [
    {
     "data": {
      "text/html": [
       "<div>\n",
       "<style scoped>\n",
       "    .dataframe tbody tr th:only-of-type {\n",
       "        vertical-align: middle;\n",
       "    }\n",
       "\n",
       "    .dataframe tbody tr th {\n",
       "        vertical-align: top;\n",
       "    }\n",
       "\n",
       "    .dataframe thead th {\n",
       "        text-align: right;\n",
       "    }\n",
       "</style>\n",
       "<table border=\"1\" class=\"dataframe\">\n",
       "  <thead>\n",
       "    <tr style=\"text-align: right;\">\n",
       "      <th></th>\n",
       "      <th>object_id</th>\n",
       "      <th>creation_source</th>\n",
       "      <th>opted_in_to_mailing_list</th>\n",
       "      <th>enabled_for_marketing_drip</th>\n",
       "      <th>lst_sp_days</th>\n",
       "      <th>reg_days</th>\n",
       "      <th>email_type</th>\n",
       "      <th>adopted</th>\n",
       "    </tr>\n",
       "  </thead>\n",
       "  <tbody>\n",
       "    <tr>\n",
       "      <th>0</th>\n",
       "      <td>1</td>\n",
       "      <td>GUEST_INVITE</td>\n",
       "      <td>1</td>\n",
       "      <td>0</td>\n",
       "      <td>0.0</td>\n",
       "      <td>38</td>\n",
       "      <td>yahoo.com</td>\n",
       "      <td>0.0</td>\n",
       "    </tr>\n",
       "    <tr>\n",
       "      <th>1</th>\n",
       "      <td>2</td>\n",
       "      <td>ORG_INVITE</td>\n",
       "      <td>0</td>\n",
       "      <td>0</td>\n",
       "      <td>136.0</td>\n",
       "      <td>196</td>\n",
       "      <td>gustr.com</td>\n",
       "      <td>1.0</td>\n",
       "    </tr>\n",
       "    <tr>\n",
       "      <th>2</th>\n",
       "      <td>3</td>\n",
       "      <td>ORG_INVITE</td>\n",
       "      <td>0</td>\n",
       "      <td>0</td>\n",
       "      <td>0.0</td>\n",
       "      <td>437</td>\n",
       "      <td>gustr.com</td>\n",
       "      <td>0.0</td>\n",
       "    </tr>\n",
       "    <tr>\n",
       "      <th>3</th>\n",
       "      <td>4</td>\n",
       "      <td>GUEST_INVITE</td>\n",
       "      <td>0</td>\n",
       "      <td>0</td>\n",
       "      <td>1.0</td>\n",
       "      <td>374</td>\n",
       "      <td>yahoo.com</td>\n",
       "      <td>0.0</td>\n",
       "    </tr>\n",
       "    <tr>\n",
       "      <th>4</th>\n",
       "      <td>5</td>\n",
       "      <td>GUEST_INVITE</td>\n",
       "      <td>0</td>\n",
       "      <td>0</td>\n",
       "      <td>5.0</td>\n",
       "      <td>498</td>\n",
       "      <td>yahoo.com</td>\n",
       "      <td>0.0</td>\n",
       "    </tr>\n",
       "  </tbody>\n",
       "</table>\n",
       "</div>"
      ],
      "text/plain": [
       "   object_id creation_source  opted_in_to_mailing_list  \\\n",
       "0          1    GUEST_INVITE                         1   \n",
       "1          2      ORG_INVITE                         0   \n",
       "2          3      ORG_INVITE                         0   \n",
       "3          4    GUEST_INVITE                         0   \n",
       "4          5    GUEST_INVITE                         0   \n",
       "\n",
       "   enabled_for_marketing_drip  lst_sp_days  reg_days email_type  adopted  \n",
       "0                           0          0.0        38  yahoo.com      0.0  \n",
       "1                           0        136.0       196  gustr.com      1.0  \n",
       "2                           0          0.0       437  gustr.com      0.0  \n",
       "3                           0          1.0       374  yahoo.com      0.0  \n",
       "4                           0          5.0       498  yahoo.com      0.0  "
      ]
     },
     "execution_count": 11,
     "metadata": {},
     "output_type": "execute_result"
    }
   ],
   "source": [
    "adopted_df = pd.DataFrame(adopted_id,columns=['adopted_id'])\n",
    "adopted_df['adopted']=1\n",
    "#print(adopted_df.head())\n",
    "tk_user = tk_user.merge(adopted_df, how = 'left', left_on = 'object_id', right_on = 'adopted_id')\n",
    "tk_user.adopted.fillna(0,inplace=True)\n",
    "tk_user.drop(columns = ['adopted_id'], inplace=True)\n",
    "#tk_user2.adopted.apply(lambda x: 1 if x!=0 else 0)\n",
    "tk_user.head()\n",
    "#tk_user.groupby(['adopted']).describe()"
   ]
  },
  {
   "cell_type": "code",
   "execution_count": 12,
   "metadata": {},
   "outputs": [
    {
     "name": "stdout",
     "output_type": "stream",
     "text": [
      "<class 'pandas.core.frame.DataFrame'>\n",
      "Int64Index: 12000 entries, 0 to 11999\n",
      "Data columns (total 8 columns):\n",
      "object_id                     12000 non-null int64\n",
      "creation_source               12000 non-null object\n",
      "opted_in_to_mailing_list      12000 non-null int64\n",
      "enabled_for_marketing_drip    12000 non-null int64\n",
      "lst_sp_days                   8823 non-null float64\n",
      "reg_days                      12000 non-null int64\n",
      "email_type                    12000 non-null object\n",
      "adopted                       12000 non-null float64\n",
      "dtypes: float64(2), int64(4), object(2)\n",
      "memory usage: 843.8+ KB\n"
     ]
    }
   ],
   "source": [
    "tk_user.info()"
   ]
  },
  {
   "cell_type": "markdown",
   "metadata": {},
   "source": [
    "### There are 8823 lst_sp_days non-missing, replace missing by 0 (assume their last session time is their account created time)"
   ]
  },
  {
   "cell_type": "code",
   "execution_count": 13,
   "metadata": {},
   "outputs": [
    {
     "name": "stdout",
     "output_type": "stream",
     "text": [
      "<class 'pandas.core.frame.DataFrame'>\n",
      "Int64Index: 12000 entries, 0 to 11999\n",
      "Data columns (total 8 columns):\n",
      "object_id                     12000 non-null int64\n",
      "creation_source               12000 non-null object\n",
      "opted_in_to_mailing_list      12000 non-null int64\n",
      "enabled_for_marketing_drip    12000 non-null int64\n",
      "lst_sp_days                   12000 non-null float64\n",
      "reg_days                      12000 non-null int64\n",
      "email_type                    12000 non-null object\n",
      "adopted                       12000 non-null float64\n",
      "dtypes: float64(2), int64(4), object(2)\n",
      "memory usage: 843.8+ KB\n"
     ]
    }
   ],
   "source": [
    "tk_user.lst_sp_days.fillna(0,inplace=True)\n",
    "tk_user.info()"
   ]
  },
  {
   "cell_type": "code",
   "execution_count": 14,
   "metadata": {},
   "outputs": [
    {
     "data": {
      "text/html": [
       "<div>\n",
       "<style scoped>\n",
       "    .dataframe tbody tr th:only-of-type {\n",
       "        vertical-align: middle;\n",
       "    }\n",
       "\n",
       "    .dataframe tbody tr th {\n",
       "        vertical-align: top;\n",
       "    }\n",
       "\n",
       "    .dataframe thead th {\n",
       "        text-align: right;\n",
       "    }\n",
       "</style>\n",
       "<table border=\"1\" class=\"dataframe\">\n",
       "  <thead>\n",
       "    <tr style=\"text-align: right;\">\n",
       "      <th></th>\n",
       "      <th>creation_source</th>\n",
       "      <th>opted_in_to_mailing_list</th>\n",
       "      <th>enabled_for_marketing_drip</th>\n",
       "      <th>lst_sp_days</th>\n",
       "      <th>reg_days</th>\n",
       "      <th>email_type</th>\n",
       "      <th>adopted</th>\n",
       "    </tr>\n",
       "    <tr>\n",
       "      <th>user_id</th>\n",
       "      <th></th>\n",
       "      <th></th>\n",
       "      <th></th>\n",
       "      <th></th>\n",
       "      <th></th>\n",
       "      <th></th>\n",
       "      <th></th>\n",
       "    </tr>\n",
       "  </thead>\n",
       "  <tbody>\n",
       "    <tr>\n",
       "      <th>1</th>\n",
       "      <td>GUEST_INVITE</td>\n",
       "      <td>1</td>\n",
       "      <td>0</td>\n",
       "      <td>0.0</td>\n",
       "      <td>38</td>\n",
       "      <td>yahoo.com</td>\n",
       "      <td>0.0</td>\n",
       "    </tr>\n",
       "    <tr>\n",
       "      <th>2</th>\n",
       "      <td>ORG_INVITE</td>\n",
       "      <td>0</td>\n",
       "      <td>0</td>\n",
       "      <td>136.0</td>\n",
       "      <td>196</td>\n",
       "      <td>gustr.com</td>\n",
       "      <td>1.0</td>\n",
       "    </tr>\n",
       "    <tr>\n",
       "      <th>3</th>\n",
       "      <td>ORG_INVITE</td>\n",
       "      <td>0</td>\n",
       "      <td>0</td>\n",
       "      <td>0.0</td>\n",
       "      <td>437</td>\n",
       "      <td>gustr.com</td>\n",
       "      <td>0.0</td>\n",
       "    </tr>\n",
       "    <tr>\n",
       "      <th>4</th>\n",
       "      <td>GUEST_INVITE</td>\n",
       "      <td>0</td>\n",
       "      <td>0</td>\n",
       "      <td>1.0</td>\n",
       "      <td>374</td>\n",
       "      <td>yahoo.com</td>\n",
       "      <td>0.0</td>\n",
       "    </tr>\n",
       "    <tr>\n",
       "      <th>5</th>\n",
       "      <td>GUEST_INVITE</td>\n",
       "      <td>0</td>\n",
       "      <td>0</td>\n",
       "      <td>5.0</td>\n",
       "      <td>498</td>\n",
       "      <td>yahoo.com</td>\n",
       "      <td>0.0</td>\n",
       "    </tr>\n",
       "  </tbody>\n",
       "</table>\n",
       "</div>"
      ],
      "text/plain": [
       "        creation_source  opted_in_to_mailing_list  enabled_for_marketing_drip  \\\n",
       "user_id                                                                         \n",
       "1          GUEST_INVITE                         1                           0   \n",
       "2            ORG_INVITE                         0                           0   \n",
       "3            ORG_INVITE                         0                           0   \n",
       "4          GUEST_INVITE                         0                           0   \n",
       "5          GUEST_INVITE                         0                           0   \n",
       "\n",
       "         lst_sp_days  reg_days email_type  adopted  \n",
       "user_id                                             \n",
       "1                0.0        38  yahoo.com      0.0  \n",
       "2              136.0       196  gustr.com      1.0  \n",
       "3                0.0       437  gustr.com      0.0  \n",
       "4                1.0       374  yahoo.com      0.0  \n",
       "5                5.0       498  yahoo.com      0.0  "
      ]
     },
     "execution_count": 14,
     "metadata": {},
     "output_type": "execute_result"
    }
   ],
   "source": [
    "tk_user = tk_user.set_index('object_id')\n",
    "tk_user.index.name = 'user_id'\n",
    "tk_user.head()"
   ]
  },
  {
   "cell_type": "markdown",
   "metadata": {},
   "source": [
    "### EDA"
   ]
  },
  {
   "cell_type": "code",
   "execution_count": 15,
   "metadata": {},
   "outputs": [
    {
     "data": {
      "image/png": "[encoded data removed]",
      "text/plain": [
       "<Figure size 2160x360 with 4 Axes>"
      ]
     },
     "metadata": {
      "needs_background": "light"
     },
     "output_type": "display_data"
    }
   ],
   "source": [
    "fig = plt.figure(figsize=(30,5))\n",
    "ax1 = fig.add_subplot(141)\n",
    "ax1 = sns.countplot(x='creation_source', data=tk_user, hue='adopted')\n",
    "ax1.tick_params(labelrotation=45)\n",
    "ax2 = fig.add_subplot(142)\n",
    "ax2 = sns.countplot(x='opted_in_to_mailing_list', data=tk_user, hue='adopted')\n",
    "ax3 = fig.add_subplot(143)\n",
    "ax3 = sns.countplot(x='enabled_for_marketing_drip', data=tk_user, hue='adopted')\n",
    "ax4 = fig.add_subplot(144)\n",
    "ax4 = sns.countplot(x='email_type', data=tk_user, hue='adopted')\n",
    "#ax2.set_xticklabels(labels = 'opted_in_to_mailing_list',rotation=90)\n",
    "ax4.tick_params(labelrotation=45)\n",
    "plt.show()"
   ]
  },
  {
   "cell_type": "markdown",
   "metadata": {},
   "source": [
    "### Check Difference for creation_source, opted_in_to_mailing_list, enabled_for_marketing_drip and email_type, respectively. Do Chi square test"
   ]
  },
  {
   "cell_type": "code",
   "execution_count": 16,
   "metadata": {},
   "outputs": [
    {
     "name": "stdout",
     "output_type": "stream",
     "text": [
      "creation_source,chi2 = 91.04842041636412\tp = 7.884346873316259e-19\n",
      "opted_in_to_mailing_list, chi2 = 0.8789863657841395\tp = 0.34847945597884034\n",
      "enabled_for_marketing_drip, chi2 = 0.46716408473039095\tp = 0.49429472330968593\n",
      "email_type, chi2 = 45.98325802789899\tp = 2.9833604164286256e-08\n"
     ]
    }
   ],
   "source": [
    "from scipy.stats import chi2_contingency\n",
    "crosstab = pd.crosstab(tk_user['creation_source'], tk_user['adopted'])\n",
    "results = chi2_contingency(crosstab)\n",
    "print('creation_source,chi2 = {}\\tp = {}'.format(results[0], results[1]))\n",
    "\n",
    "crosstab = pd.crosstab(tk_user['opted_in_to_mailing_list'], tk_user['adopted'])\n",
    "results = chi2_contingency(crosstab)\n",
    "print('opted_in_to_mailing_list, chi2 = {}\\tp = {}'.format(results[0], results[1]))\n",
    "\n",
    "crosstab = pd.crosstab(tk_user['enabled_for_marketing_drip'], tk_user['adopted'])\n",
    "results = chi2_contingency(crosstab)\n",
    "print('enabled_for_marketing_drip, chi2 = {}\\tp = {}'.format(results[0], results[1]))\n",
    "\n",
    "crosstab = pd.crosstab(tk_user['email_type'], tk_user['adopted'])\n",
    "results = chi2_contingency(crosstab)\n",
    "print('email_type, chi2 = {}\\tp = {}'.format(results[0], results[1]))"
   ]
  },
  {
   "cell_type": "code",
   "execution_count": 17,
   "metadata": {},
   "outputs": [
    {
     "name": "stdout",
     "output_type": "stream",
     "text": [
      "creation_source\n",
      "GUEST_INVITE          0.170596\n",
      "ORG_INVITE            0.134932\n",
      "PERSONAL_PROJECTS     0.081478\n",
      "SIGNUP                0.144705\n",
      "SIGNUP_GOOGLE_AUTH    0.172563\n",
      "Name: adopted, dtype: float64 \n",
      "\n",
      "email_type\n",
      "cuvox.de          0.119800\n",
      "gmail.com         0.156373\n",
      "gustr.com         0.127226\n",
      "hotmail.com       0.175966\n",
      "jourrapide.com    0.135028\n",
      "others            0.137437\n",
      "yahoo.com         0.109113\n",
      "Name: adopted, dtype: float64 \n",
      "\n",
      "opted_in_to_mailing_list\n",
      "0    0.136243\n",
      "1    0.143287\n",
      "Name: adopted, dtype: float64 \n",
      "\n",
      "enabled_for_marketing_drip\n",
      "0    0.137049\n",
      "1    0.143415\n",
      "Name: adopted, dtype: float64\n"
     ]
    }
   ],
   "source": [
    "# Chi square significant for creation_source, email_type\n",
    "print(tk_user.groupby('creation_source')['adopted'].apply(lambda x: sum(x)/len(x)),\"\\n\")\n",
    "print(tk_user.groupby('email_type')['adopted'].apply(lambda x: sum(x)/len(x)),\"\\n\")\n",
    "\n",
    "print(tk_user.groupby('opted_in_to_mailing_list')['adopted'].apply(lambda x: sum(x)/len(x)),\"\\n\")\n",
    "print(tk_user.groupby('enabled_for_marketing_drip')['adopted'].apply(lambda x: sum(x)/len(x)))"
   ]
  },
  {
   "cell_type": "markdown",
   "metadata": {},
   "source": [
    "Higher adopted user in GUEST_INVITE and SIGNUP_GOOGLE_AUTH; higher adopted user in gmail and hotmail. That can be understood since guest invited user, goole user and hotmail user are more engaged."
   ]
  },
  {
   "cell_type": "code",
   "execution_count": 18,
   "metadata": {},
   "outputs": [
    {
     "name": "stdout",
     "output_type": "stream",
     "text": [
      "For opted_in_to_mailing_list, z = 0.9680825369364737, p = 0.3330031505646689\n",
      "For enabled_for_marketing_drip, z = 0.7205798349185616, p = 0.471168064268643\n"
     ]
    }
   ],
   "source": [
    "from statsmodels.stats.weightstats import CompareMeans\n",
    "\n",
    "def z_test(df, col, target='adopted'):\n",
    "    opted_in = df.loc[tk_user[col]==1, target]\n",
    "    opted_out = df.loc[tk_user[col]==0, target]\n",
    "    z_data = CompareMeans.from_data(opted_in, opted_out)\n",
    "    z, p = CompareMeans.ztest_ind(z_data)\n",
    "    print('For {}, z = {}, p = {}'.format(col, z, p))\n",
    "z_test(tk_user, 'opted_in_to_mailing_list')\n",
    "z_test(tk_user,'enabled_for_marketing_drip')"
   ]
  },
  {
   "cell_type": "markdown",
   "metadata": {},
   "source": [
    "No Mean difference between opted_in_to_mailing_list and endabled_for_marketing_drip"
   ]
  },
  {
   "cell_type": "code",
   "execution_count": 19,
   "metadata": {},
   "outputs": [
    {
     "data": {
      "image/png": "[encoded data removed]",
      "text/plain": [
       "<Figure size 2160x720 with 2 Axes>"
      ]
     },
     "metadata": {
      "needs_background": "light"
     },
     "output_type": "display_data"
    }
   ],
   "source": [
    "# history and adopted user\n",
    "def plot_hist_days(df, col, xlabel):\n",
    "    _ = plt.hist(df.loc[tk_user['adopted']==1, col], \n",
    "                 bins=30, alpha=0.3, color='r', label='adopted')\n",
    "    _ = plt.hist(df.loc[tk_user['adopted']==0, col], \n",
    "                 bins=30, alpha=0.3, color='y', label='non adopted')\n",
    "    _ = plt.yscale('log')\n",
    "    _ = plt.legend()\n",
    "    _ = plt.xlabel(xlabel)\n",
    "    _ = plt.ylabel('No. of users')\n",
    "    _ = plt.yticks([1, 10, 100, 1000], ['1', '10', '100', '1000'])\n",
    "\n",
    "fig = plt.figure(figsize=(30,10))\n",
    "ax1 = fig.add_subplot(121)\n",
    "ax1 = plot_hist_days(tk_user, 'lst_sp_days', 'spread of user last login and reg days')\n",
    "ax2 = fig.add_subplot(122)\n",
    "ax2 = plot_hist_days(tk_user, 'reg_days', 'register days (base on longest register days)')"
   ]
  },
  {
   "cell_type": "markdown",
   "metadata": {},
   "source": [
    "users with long history are more likely to be adopted users; the adoption rate is lower in very new accounts and stable in all time period."
   ]
  },
  {
   "cell_type": "markdown",
   "metadata": {},
   "source": [
    "### Modeling"
   ]
  },
  {
   "cell_type": "code",
   "execution_count": 20,
   "metadata": {},
   "outputs": [],
   "source": [
    "### create dummy variables for creation_source and email_type\n",
    "creation_source = pd.get_dummies(tk_user['creation_source'], drop_first=True)\n",
    "tk_user2= pd.concat([tk_user, creation_source], axis=1).drop('creation_source', axis=1)\n",
    "\n",
    "email_type = pd.get_dummies(tk_user['email_type'], drop_first=True)\n",
    "tk_user2= pd.concat([tk_user2, email_type], axis=1).drop('email_type', axis=1)"
   ]
  },
  {
   "cell_type": "code",
   "execution_count": 21,
   "metadata": {},
   "outputs": [],
   "source": [
    "### create target variable and split data\n",
    "y = tk_user2['adopted']\n",
    "X = tk_user2.drop('adopted', axis=1)\n",
    "# though account_age and history have different scales than other features,\n",
    "# I plan to use random forest model, which is not affectd by the different scales\n",
    "# no need to scale the data\n",
    "# create training and testing sets\n",
    "from sklearn.model_selection import train_test_split\n",
    "Xtrain, Xtest, ytrain, ytest = train_test_split(X, y, stratify=y, random_state=42)"
   ]
  },
  {
   "cell_type": "code",
   "execution_count": 22,
   "metadata": {},
   "outputs": [
    {
     "name": "stdout",
     "output_type": "stream",
     "text": [
      "Best parameters were {'n_estimators': 200}\n",
      "Best average precision was 0.9723333333333333\n"
     ]
    }
   ],
   "source": [
    "from sklearn.ensemble import RandomForestClassifier\n",
    "from sklearn.model_selection import GridSearchCV\n",
    "from sklearn.metrics import classification_report, accuracy_score\n",
    "from sklearn.model_selection import cross_val_score\n",
    "\n",
    "clf = RandomForestClassifier(random_state=42, class_weight='balanced')\n",
    "# use 5 folder stratified CV to tune number of trees\n",
    "params = {'n_estimators': [10, 50, 100, 200, 300]}\n",
    "model = GridSearchCV(clf, params, cv=5)\n",
    "model.fit(Xtrain, ytrain)\n",
    "print('Best parameters were', model.best_params_)\n",
    "print('Best average precision was', model.best_score_)"
   ]
  },
  {
   "cell_type": "code",
   "execution_count": 23,
   "metadata": {},
   "outputs": [
    {
     "name": "stdout",
     "output_type": "stream",
     "text": [
      "Accuracy of test set was 0.9656666666666667\n",
      "              precision    recall  f1-score   support\n",
      "\n",
      "         0.0       0.98      0.98      0.98      2586\n",
      "         1.0       0.89      0.85      0.87       414\n",
      "\n",
      "    accuracy                           0.97      3000\n",
      "   macro avg       0.94      0.92      0.93      3000\n",
      "weighted avg       0.97      0.97      0.97      3000\n",
      "\n"
     ]
    }
   ],
   "source": [
    "model = RandomForestClassifier(\n",
    "    random_state=42, class_weight='balanced', n_estimators=200\n",
    ")\n",
    "model.fit(Xtrain, ytrain)\n",
    "ypred = model.predict(Xtest)\n",
    "print('Accuracy of test set was', accuracy_score(ytest, ypred))\n",
    "print(classification_report(ytest, ypred))"
   ]
  },
  {
   "cell_type": "code",
   "execution_count": 24,
   "metadata": {},
   "outputs": [
    {
     "name": "stdout",
     "output_type": "stream",
     "text": [
      "lst_sp_days                   88.802840\n",
      "reg_days                       7.500915\n",
      "PERSONAL_PROJECTS              0.785765\n",
      "opted_in_to_mailing_list       0.388290\n",
      "enabled_for_marketing_drip     0.348763\n",
      "ORG_INVITE                     0.344928\n",
      "gmail.com                      0.331420\n",
      "SIGNUP                         0.271014\n",
      "hotmail.com                    0.251732\n",
      "yahoo.com                      0.251483\n",
      "jourrapide.com                 0.211120\n",
      "SIGNUP_GOOGLE_AUTH             0.176978\n",
      "others                         0.170945\n",
      "gustr.com                      0.163806\n",
      "dtype: float64\n"
     ]
    },
    {
     "data": {
      "image/png": "[encoded data removed]",
      "text/plain": [
       "<Figure size 1440x720 with 1 Axes>"
      ]
     },
     "metadata": {
      "needs_background": "light"
     },
     "output_type": "display_data"
    }
   ],
   "source": [
    "feat_imp = pd.Series(model.feature_importances_, index=X.columns)\n",
    "feat_imp = 100*feat_imp.sort_values(ascending=False)\n",
    "print(feat_imp)\n",
    "fig = plt.figure(figsize=(20,10))\n",
    "_ = feat_imp.nlargest(5).plot(kind='barh')\n",
    "_ = plt.xlabel('Feature Percentage (%)')\n",
    "_ = plt.ylabel('Feature Name')\n",
    "_ = plt.title('Feature Name vs Feature percenrage (%)')"
   ]
  },
  {
   "cell_type": "markdown",
   "metadata": {},
   "source": [
    "### Conclusion"
   ]
  },
  {
   "cell_type": "markdown",
   "metadata": {},
   "source": [
    "Most important feature is spread of user last login and reg days, then register days and creation souce with PERSONAL_PROJECTS are relative important.\n",
    "To increase adopted id:\n",
    "- Encourage users to login frequently\n",
    "- Let more users who do personal project to create account\n",
    "- Encourage more users to choose to receive marketing emails"
   ]
  },
  {
   "cell_type": "code",
   "execution_count": null,
   "metadata": {},
   "outputs": [],
   "source": []
  }
 ],
 "metadata": {
  "kernelspec": {
   "display_name": "learn_from_others",
   "language": "python",
   "name": "learn_from_others"
  },
  "language_info": {
   "codemirror_mode": {
    "name": "ipython",
    "version": 3
   },
   "file_extension": ".py",
   "mimetype": "text/x-python",
   "name": "python",
   "nbconvert_exporter": "python",
   "pygments_lexer": "ipython3",
   "version": "3.7.4"
  }
 },
 "nbformat": 4,
 "nbformat_minor": 4
}
