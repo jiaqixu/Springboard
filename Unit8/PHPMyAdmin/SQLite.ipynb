{
 "cells": [
  {
   "cell_type": "markdown",
   "metadata": {},
   "source": [
    "### Q10: \n",
    "Produce a list of facilities with a total revenue less than 1000.\n",
    "The output of facility name and total revenue, sorted by revenue. Remember\n",
    "that there's a different cost for guests and members! "
   ]
  },
  {
   "cell_type": "code",
   "execution_count": 1,
   "metadata": {},
   "outputs": [
    {
     "name": "stdout",
     "output_type": "stream",
     "text": [
      "<sqlite3.Cursor object at 0x0000029D8856ADC0>\n",
      "('Baker,Anne', 150.0)\n",
      "('Butters,Gerald', 150.0)\n",
      "('Farrell,David', 150.0)\n",
      "('Hunt,John', 150.0)\n",
      "('Owen,Charles', 150.0)\n",
      "('Smith,Tracy', 150.0)\n",
      "('Genting,Matthew', 39.6)\n",
      "('Joplette,Janice', 39.6)\n",
      "('Rownam,Tim', 39.6)\n",
      "('Smith,Jack', 39.6)\n",
      "('Baker,Timothy', 30.0)\n",
      "('Boothe,Tim', 30.0)\n",
      "('Jones,David', 30.0)\n",
      "('Sarwin,Ramnaresh', 30.0)\n",
      "('Stibbons,Ponder', 30.0)\n",
      "('Tracy,Burton', 30.0)\n",
      "('GUEST,GUEST', 14.0)\n",
      "('Bader,Florence', 0.0)\n",
      "('Coplin,Joan', 0.0)\n",
      "('Crumpet,Erica', 0.0)\n",
      "('Dare,Nancy', 0.0)\n",
      "('Farrell,Jemima', 0.0)\n",
      "('Jones,Douglas', 0.0)\n",
      "('Mackenzie,Anna', 0.0)\n",
      "('Pinker,David', 0.0)\n",
      "('Purview,Millicent', 0.0)\n",
      "('Rumney,Henrietta', 0.0)\n",
      "('Smith,Darren', 0.0)\n",
      "('Tupperware,Hyacinth', 0.0)\n",
      "('Worthington-Smyth,Henry', 0.0)\n"
     ]
    }
   ],
   "source": [
    "import sqlite3\n",
    "conn = None\n",
    "conn = sqlite3.connect('sqlite_db_pythonsqlite.db')\n",
    "cur = conn.cursor()\n",
    "print(cur)\n",
    "#query1 = \"\"\"SELECT * FROM FACILITIES\"\"\"\n",
    "query1 = \"\"\"SELECT DISTINCT \n",
    "m.surname || ',' || m.firstname  AS member_name,\n",
    "CASE WHEN f.facid =0\n",
    "THEN f.guestcost * slots / 0.5\n",
    "ELSE f.membercost * slots / 0.5\n",
    "END AS total_revenue\n",
    "FROM (\n",
    "(\n",
    "Bookings AS b\n",
    "INNER JOIN Facilities AS f\n",
    "USING ( facid )\n",
    ")\n",
    "INNER JOIN Members AS m\n",
    "USING ( memid )\n",
    ")\n",
    "Group BY member_name\n",
    "HAVING total_revenue<1000\n",
    "ORDER BY total_revenue DESC\"\"\"\n",
    "cur.execute(query1)\n",
    "rows = cur.fetchall()\n",
    "for row in rows:\n",
    "    print(row)"
   ]
  },
  {
   "cell_type": "markdown",
   "metadata": {},
   "source": [
    "### Q11: \n",
    "Produce a report of members and who recommended them in alphabetic surname,firstname order"
   ]
  },
  {
   "cell_type": "code",
   "execution_count": 2,
   "metadata": {},
   "outputs": [
    {
     "name": "stdout",
     "output_type": "stream",
     "text": [
      "('Bader,Florence', 'Stibbons,Ponder')\n",
      "('Baker,Anne', 'Stibbons,Ponder')\n",
      "('Baker,Timothy', 'Farrell,Jemima')\n",
      "('Boothe,Tim', 'Rownam,Tim')\n",
      "('Butters,Gerald', 'Smith,Darren')\n",
      "('Coplin,Joan', 'Baker,Timothy')\n",
      "('Crumpet,Erica', 'Smith,Tracy')\n",
      "('Dare,Nancy', 'Joplette,Janice')\n",
      "('Farrell,David', None)\n",
      "('Farrell,Jemima', None)\n",
      "('GUEST,GUEST', None)\n",
      "('Genting,Matthew', 'Butters,Gerald')\n",
      "('Hunt,John', 'Purview,Millicent')\n",
      "('Jones,David', 'Joplette,Janice')\n",
      "('Jones,Douglas', 'Jones,David')\n",
      "('Joplette,Janice', 'Smith,Darren')\n",
      "('Mackenzie,Anna', 'Smith,Darren')\n",
      "('Owen,Charles', 'Smith,Darren')\n",
      "('Pinker,David', 'Farrell,Jemima')\n",
      "('Purview,Millicent', 'Smith,Tracy')\n",
      "('Rownam,Tim', None)\n",
      "('Rumney,Henrietta', 'Genting,Matthew')\n",
      "('Sarwin,Ramnaresh', 'Bader,Florence')\n",
      "('Smith,Darren', None)\n",
      "('Smith,Darren', None)\n",
      "('Smith,Jack', 'Smith,Darren')\n",
      "('Smith,Tracy', None)\n",
      "('Stibbons,Ponder', 'Tracy,Burton')\n",
      "('Tracy,Burton', None)\n",
      "('Tupperware,Hyacinth', None)\n",
      "('Worthington-Smyth,Henry', 'Smith,Tracy')\n"
     ]
    }
   ],
   "source": [
    "import sqlite3\n",
    "conn = None\n",
    "conn = sqlite3.connect('sqlite_db_pythonsqlite.db')\n",
    "cur = conn.cursor()\n",
    "query1 = \"\"\"\n",
    "SELECT m1.surname || ',' || m1.firstname  AS member_name, \n",
    "m2.surname || ',' || m2.firstname  AS recommended_name\n",
    "FROM Members AS m1\n",
    "LEFT JOIN Members AS m2\n",
    "ON m1.recommendedby = m2.memid\n",
    "ORDER BY member_name, recommended_name\n",
    "\"\"\"\n",
    "cur.execute(query1)\n",
    "rows = cur.fetchall()\n",
    "for row in rows:\n",
    "    print(row)"
   ]
  },
  {
   "cell_type": "markdown",
   "metadata": {},
   "source": [
    "### Q12: \n",
    "Find the facilities with their usage by member, but not guests "
   ]
  },
  {
   "cell_type": "code",
   "execution_count": 3,
   "metadata": {},
   "outputs": [
    {
     "name": "stdout",
     "output_type": "stream",
     "text": [
      "('Table Tennis',)\n",
      "('Massage Room 1',)\n",
      "('Snooker Table',)\n",
      "('Pool Table',)\n",
      "('Tennis Court 1',)\n",
      "('Squash Court',)\n",
      "('Badminton Court',)\n",
      "('Tennis Court 2',)\n",
      "('Massage Room 2',)\n"
     ]
    }
   ],
   "source": [
    "import sqlite3\n",
    "conn = None\n",
    "conn = sqlite3.connect('sqlite_db_pythonsqlite.db')\n",
    "cur = conn.cursor()\n",
    "query1=\"\"\"\n",
    "SELECT DISTINCT name AS facility_name\n",
    "FROM Facilities AS f\n",
    "INNER JOIN Bookings AS b\n",
    "USING(facid)\n",
    "WHERE b.memid <>0\n",
    "\"\"\"\n",
    "cur.execute(query1)\n",
    "rows = cur.fetchall()\n",
    "for row in rows:\n",
    "    print(row)\n",
    "conn.close()"
   ]
  },
  {
   "cell_type": "markdown",
   "metadata": {},
   "source": [
    "### Q13: \n",
    "Find the facilities usage by month, but not guests "
   ]
  },
  {
   "cell_type": "code",
   "execution_count": 4,
   "metadata": {},
   "outputs": [
    {
     "name": "stdout",
     "output_type": "stream",
     "text": [
      "('Badminton Court', '07')\n",
      "('Badminton Court', '08')\n",
      "('Badminton Court', '09')\n",
      "('Massage Room 1', '07')\n",
      "('Massage Room 1', '08')\n",
      "('Massage Room 1', '09')\n",
      "('Massage Room 2', '07')\n",
      "('Massage Room 2', '08')\n",
      "('Massage Room 2', '09')\n",
      "('Pool Table', '07')\n",
      "('Pool Table', '08')\n",
      "('Pool Table', '09')\n",
      "('Snooker Table', '07')\n",
      "('Snooker Table', '08')\n",
      "('Snooker Table', '09')\n",
      "('Squash Court', '07')\n",
      "('Squash Court', '08')\n",
      "('Squash Court', '09')\n",
      "('Table Tennis', '07')\n",
      "('Table Tennis', '08')\n",
      "('Table Tennis', '09')\n",
      "('Tennis Court 1', '07')\n",
      "('Tennis Court 1', '08')\n",
      "('Tennis Court 1', '09')\n",
      "('Tennis Court 2', '07')\n",
      "('Tennis Court 2', '08')\n",
      "('Tennis Court 2', '09')\n"
     ]
    }
   ],
   "source": [
    "import sqlite3\n",
    "conn = None\n",
    "conn = sqlite3.connect('sqlite_db_pythonsqlite.db')\n",
    "cur = conn.cursor()\n",
    "query1 = \"\"\"\n",
    "SELECT DISTINCT c.facility_name AS member_name, strftime('%m',m.joindate) AS facility_month\n",
    "FROM Members AS m\n",
    "INNER JOIN (\n",
    "SELECT name AS facility_name, b.memid\n",
    "FROM Facilities AS f\n",
    "INNER JOIN Bookings AS b\n",
    "USING(facid)\n",
    "WHERE b.memid <>0) AS c\n",
    "USING(memid)\n",
    "ORDER BY member_name\n",
    "\"\"\"\n",
    "cur.execute(query1)\n",
    "rows = cur.fetchall()\n",
    "for row in rows:\n",
    "    print(row)\n",
    "conn.close()"
   ]
  },
  {
   "cell_type": "code",
   "execution_count": null,
   "metadata": {},
   "outputs": [],
   "source": []
  }
 ],
 "metadata": {
  "kernelspec": {
   "display_name": "learn_from_others",
   "language": "python",
   "name": "learn_from_others"
  },
  "language_info": {
   "codemirror_mode": {
    "name": "ipython",
    "version": 3
   },
   "file_extension": ".py",
   "mimetype": "text/x-python",
   "name": "python",
   "nbconvert_exporter": "python",
   "pygments_lexer": "ipython3",
   "version": "3.7.4"
  }
 },
 "nbformat": 4,
 "nbformat_minor": 4
}
